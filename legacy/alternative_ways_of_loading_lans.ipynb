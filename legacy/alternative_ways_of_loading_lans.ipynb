{
 "cells": [
  {
   "cell_type": "code",
   "execution_count": null,
   "id": "49cd2f18-523e-4b05-8ac1-b46801ace505",
   "metadata": {},
   "outputs": [],
   "source": [
    "import torch\n",
    "import pyro\n",
    "import pyro.distributions as dist\n",
    "import matplotlib\n",
    "import matplotlib.pyplot as plt\n",
    "from torch.distributions.constraints import positive\n",
    "\n",
    "import logging\n",
    "import os\n",
    "\n",
    "#import torch\n",
    "import numpy as np\n",
    "import pandas as pd\n",
    "import seaborn as sns\n",
    "import matplotlib.pyplot as plt\n",
    "import pickle\n",
    "import scipy\n",
    "\n",
    "import pyro\n",
    "import ssms\n",
    "import lanfactory\n",
    "#torch.set_default_dtype(torch.float64)\n",
    "torch.set_default_dtype(torch.float32)\n",
    "\n",
    "from lanfactory.trainers.torch_mlp import TorchMLP \n",
    "\n",
    "import lanfactory\n",
    "import ssms"
   ]
  },
  {
   "cell_type": "code",
   "execution_count": null,
   "id": "41730267-7bad-4721-96f6-d72721c46d48",
   "metadata": {},
   "outputs": [],
   "source": [
    "smoke_test = ('CI' in os.environ)\n",
    "assert pyro.__version__.startswith('1.8.1')\n",
    "\n",
    "pyro.enable_validation(True)\n",
    "pyro.set_rng_seed(9)\n",
    "logging.basicConfig(format='%(message)s', level=logging.INFO)\n",
    "\n",
    "# Set matplotlib settings\n",
    "%matplotlib inline\n",
    "plt.style.use('default')"
   ]
  },
  {
   "cell_type": "markdown",
   "id": "e47743d3-e368-4a8f-aa08-b543890a8845",
   "metadata": {},
   "source": [
    "## Define MLP Loader classes"
   ]
  },
  {
   "cell_type": "code",
   "execution_count": null,
   "id": "c0ee6f77-77ce-47bf-8ed7-3f503435f0fb",
   "metadata": {},
   "outputs": [],
   "source": [
    "class CustomTorchMLP(torch.nn.Module):\n",
    "    def __init__(self, state_dict, network_config):\n",
    "        super(CustomTorchMLPMod, self).__init__()\n",
    "        self.weights = []\n",
    "        self.biases = []\n",
    "        self.activations = deepcopy(network_config['activations'])\n",
    "        self.net_depth = len(self.activations)\n",
    "        self.state_dict = state_dict\n",
    "        cnt = 0\n",
    "        for obj in self.state_dict:\n",
    "            if 'weight' in obj:\n",
    "                self.weights.append(deepcopy(self.state_dict[obj]).T)\n",
    "            elif 'bias' in obj:\n",
    "                self.biases.append(torch.unsqueeze(deepcopy(self.state_dict[obj]), 0))\n",
    "        #super().__init\n",
    "        \n",
    "    def forward(self, input_tensor):\n",
    "        tmp = input_tensor\n",
    "        for i in range(0, self.net_depth - 1, 1):\n",
    "            tmp = torch.tanh(torch.add(torch.matmul(tmp, self.weights[i]), self.biases[i]))\n",
    "        tmp = torch.add(torch.matmul(tmp, self.weights[self.net_depth - 1]), self.biases[self.net_depth - 1])\n",
    "        return tmp"
   ]
  },
  {
   "cell_type": "markdown",
   "id": "59335378-5dbc-4f92-b5a8-f2adbedb1e0b",
   "metadata": {},
   "source": [
    "## Define model and model config"
   ]
  },
  {
   "cell_type": "code",
   "execution_count": 1,
   "id": "10d63f2f-986d-4bba-b2d9-4ee1443eb867",
   "metadata": {},
   "outputs": [
    {
     "ename": "NameError",
     "evalue": "name 'ssms' is not defined",
     "output_type": "error",
     "traceback": [
      "\u001b[0;31m---------------------------------------------------------------------------\u001b[0m",
      "\u001b[0;31mNameError\u001b[0m                                 Traceback (most recent call last)",
      "\u001b[0;32m<ipython-input-1-229fe8faaff7>\u001b[0m in \u001b[0;36m<module>\u001b[0;34m\u001b[0m\n\u001b[1;32m      2\u001b[0m \u001b[0;32mfrom\u001b[0m \u001b[0mcopy\u001b[0m \u001b[0;32mimport\u001b[0m \u001b[0mdeepcopy\u001b[0m\u001b[0;34m\u001b[0m\u001b[0;34m\u001b[0m\u001b[0m\n\u001b[1;32m      3\u001b[0m \u001b[0mmodel\u001b[0m \u001b[0;34m=\u001b[0m \u001b[0;34m\"ddm\"\u001b[0m \u001b[0;31m# for now only DDM (once we have choice probability models --> all models applicable)\u001b[0m\u001b[0;34m\u001b[0m\u001b[0;34m\u001b[0m\u001b[0m\n\u001b[0;32m----> 4\u001b[0;31m \u001b[0mmodel_config\u001b[0m \u001b[0;34m=\u001b[0m \u001b[0mssms\u001b[0m\u001b[0;34m.\u001b[0m\u001b[0mconfig\u001b[0m\u001b[0;34m.\u001b[0m\u001b[0mmodel_config\u001b[0m\u001b[0;34m[\u001b[0m\u001b[0mmodel\u001b[0m\u001b[0;34m]\u001b[0m\u001b[0;34m.\u001b[0m\u001b[0mcopy\u001b[0m\u001b[0;34m(\u001b[0m\u001b[0;34m)\u001b[0m \u001b[0;31m# convenience\u001b[0m\u001b[0;34m\u001b[0m\u001b[0;34m\u001b[0m\u001b[0m\n\u001b[0m\u001b[1;32m      5\u001b[0m network_config = pickle.load(open('nets/d27193a4153011ecb76ca0423f39a3e6_' + \\\n\u001b[1;32m      6\u001b[0m                                   'ddm_torch__network_config.pickle', 'rb'))\n",
      "\u001b[0;31mNameError\u001b[0m: name 'ssms' is not defined"
     ]
    }
   ],
   "source": [
    "# Model\n",
    "from copy import deepcopy\n",
    "model = \"ddm\" # for now only DDM (once we have choice probability models --> all models applicable)\n",
    "model_config = ssms.config.model_config[model].copy() # convenience\n",
    "network_config = pickle.load(open('nets/d27193a4153011ecb76ca0423f39a3e6_' + \\\n",
    "                                  'ddm_torch__network_config.pickle', 'rb'))\n"
   ]
  },
  {
   "cell_type": "markdown",
   "id": "b43c0d54-8625-4370-97bb-ef1192b5d2cb",
   "metadata": {},
   "source": [
    "### Load with TorchMLP from LANfactory package"
   ]
  },
  {
   "cell_type": "code",
   "execution_count": null,
   "id": "3e9804c5-353f-4612-9355-dcfcfb7e8933",
   "metadata": {},
   "outputs": [],
   "source": [
    "# Initialize network class\n",
    "torch_net = TorchMLP(network_config = network_config,\n",
    "                     input_shape = len(model_config['params']) + 2,\n",
    "                     generative_model_id = None)\n",
    "\n",
    "# Load weights and biases\n",
    "torch_net.load_state_dict(torch.load('nets/d27193a4153011ecb76ca0423f39a3e6_ddm_torch_state_dict.pt', \n",
    "                          map_location=torch.device('cpu')))\n"
   ]
  },
  {
   "cell_type": "markdown",
   "id": "d35454c4-6ccb-44ae-8d11-2d22c9f1c06b",
   "metadata": {},
   "source": [
    "### Use custom TorchMLP loader"
   ]
  },
  {
   "cell_type": "code",
   "execution_count": null,
   "id": "c88086e6-6815-464e-b438-221376858930",
   "metadata": {},
   "outputs": [],
   "source": [
    "# Initialize custom pytorch network\n",
    "# custom_torch_net = CustomTorchMLP(torch_net.state_dict(), \n",
    "#                                   network_config)\n",
    "\n",
    "custom_torch_net = CustomTorchMLPMod(torch_net.state_dict(), \n",
    "                                     network_config)\n",
    "custom_torch_net.eval()"
   ]
  }
 ],
 "metadata": {
  "kernelspec": {
   "display_name": "lanfactory",
   "language": "python",
   "name": "lanfactory"
  },
  "language_info": {
   "codemirror_mode": {
    "name": "ipython",
    "version": 3
   },
   "file_extension": ".py",
   "mimetype": "text/x-python",
   "name": "python",
   "nbconvert_exporter": "python",
   "pygments_lexer": "ipython3",
   "version": "3.7.10"
  }
 },
 "nbformat": 4,
 "nbformat_minor": 5
}
